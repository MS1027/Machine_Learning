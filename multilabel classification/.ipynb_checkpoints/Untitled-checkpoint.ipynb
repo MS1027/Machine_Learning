{
 "cells": [
  {
   "cell_type": "code",
   "execution_count": 1,
   "id": "58c2f581",
   "metadata": {},
   "outputs": [],
   "source": [
    "# mlp for multi-label classification\n",
    "from numpy import mean\n",
    "from numpy import std\n",
    "from sklearn.datasets import make_multilabel_classification\n",
    "from sklearn.model_selection import RepeatedKFold\n",
    "from keras.models import Sequential\n",
    "from keras.layers import Dense\n",
    "from sklearn.metrics import accuracy_score"
   ]
  },
  {
   "cell_type": "code",
   "execution_count": 3,
   "id": "daf2cacb",
   "metadata": {},
   "outputs": [],
   "source": [
    "# get the dataset\n",
    "def get_dataset():\n",
    "    X, y = make_multilabel_classification(n_samples=1000, n_features=10, n_classes=3, n_labels=2, random_state=1)\n",
    "    return X, y"
   ]
  },
  {
   "cell_type": "code",
   "execution_count": 4,
   "id": "cc360887",
   "metadata": {},
   "outputs": [],
   "source": [
    "# get the model\n",
    "def get_model(n_inputs, n_outputs):\n",
    "    model = Sequential()\n",
    "    model.add(Dense(20, input_dim=n_inputs, kernel_initializer='he_uniform', activation='relu'))\n",
    "    model.add(Dense(n_outputs, activation='sigmoid'))\n",
    "    model.compile(loss='binary_crossentropy', optimizer='adam')\n",
    "    return model"
   ]
  },
  {
   "cell_type": "code",
   "execution_count": 5,
   "id": "33c68446",
   "metadata": {},
   "outputs": [],
   "source": [
    "# evaluate a model using repeated k-fold cross-validation\n",
    "def evaluate_model(X, y):\n",
    "    results = list()\n",
    "    n_inputs, n_outputs = X.shape[1], y.shape[1]\n",
    "    # define evaluation procedure\n",
    "    cv = RepeatedKFold(n_splits=10, n_repeats=3, random_state=1)\n",
    "    # enumerate folds\n",
    "    for train_ix, test_ix in cv.split(X):\n",
    "        # prepare data\n",
    "        X_train, X_test = X[train_ix], X[test_ix]\n",
    "        y_train, y_test = y[train_ix], y[test_ix]\n",
    "        # define model\n",
    "        model = get_model(n_inputs, n_outputs)\n",
    "        # fit model\n",
    "        model.fit(X_train, y_train, verbose=0, epochs=100)\n",
    "        # make a prediction on the test set\n",
    "        yhat = model.predict(X_test)\n",
    "        # round probabilities to class labels\n",
    "        yhat = yhat.round()\n",
    "        # calculate accuracy\n",
    "        acc = accuracy_score(y_test, yhat)\n",
    "        # store result\n",
    "        print('>%.3f' % acc)\n",
    "        results.append(acc)\n",
    "    return results"
   ]
  },
  {
   "cell_type": "code",
   "execution_count": 6,
   "id": "930b319e",
   "metadata": {},
   "outputs": [],
   "source": [
    "# load dataset\n",
    "X, y = get_dataset()"
   ]
  },
  {
   "cell_type": "code",
   "execution_count": 7,
   "id": "76d79f9b",
   "metadata": {},
   "outputs": [
    {
     "name": "stdout",
     "output_type": "stream",
     "text": [
      "4/4 [==============================] - 0s 0s/step\n",
      ">0.870\n",
      "4/4 [==============================] - 0s 6ms/step\n",
      ">0.840\n",
      "4/4 [==============================] - 0s 5ms/step\n",
      ">0.870\n",
      "4/4 [==============================] - 0s 2ms/step\n",
      ">0.810\n",
      "4/4 [==============================] - 0s 7ms/step\n",
      ">0.810\n",
      "4/4 [==============================] - 0s 3ms/step\n",
      ">0.810\n",
      "4/4 [==============================] - 0s 4ms/step\n",
      ">0.780\n",
      "4/4 [==============================] - 0s 5ms/step\n",
      ">0.840\n",
      "4/4 [==============================] - 0s 5ms/step\n",
      ">0.790\n",
      "4/4 [==============================] - 0s 3ms/step\n",
      ">0.750\n",
      "4/4 [==============================] - 0s 4ms/step\n",
      ">0.820\n",
      "4/4 [==============================] - 0s 4ms/step\n",
      ">0.790\n",
      "4/4 [==============================] - 0s 6ms/step\n",
      ">0.770\n",
      "4/4 [==============================] - 0s 2ms/step\n",
      ">0.810\n",
      "4/4 [==============================] - 0s 0s/step\n",
      ">0.770\n",
      "4/4 [==============================] - 0s 7ms/step\n",
      ">0.820\n",
      "4/4 [==============================] - 0s 2ms/step\n",
      ">0.830\n",
      "4/4 [==============================] - 0s 0s/step\n",
      ">0.810\n",
      "4/4 [==============================] - 0s 3ms/step\n",
      ">0.830\n",
      "4/4 [==============================] - 0s 3ms/step\n",
      ">0.800\n",
      "4/4 [==============================] - 0s 2ms/step\n",
      ">0.860\n",
      "4/4 [==============================] - 0s 6ms/step\n",
      ">0.820\n",
      "4/4 [==============================] - 0s 5ms/step\n",
      ">0.800\n",
      "4/4 [==============================] - 0s 2ms/step\n",
      ">0.860\n",
      "4/4 [==============================] - 0s 5ms/step\n",
      ">0.860\n",
      "4/4 [==============================] - 0s 5ms/step\n",
      ">0.810\n",
      "4/4 [==============================] - 0s 3ms/step\n",
      ">0.840\n",
      "4/4 [==============================] - 0s 5ms/step\n",
      ">0.810\n",
      "4/4 [==============================] - 0s 0s/step\n",
      ">0.770\n",
      "4/4 [==============================] - 0s 5ms/step\n",
      ">0.820\n"
     ]
    }
   ],
   "source": [
    "# evaluate model\n",
    "results = evaluate_model(X, y)"
   ]
  },
  {
   "cell_type": "code",
   "execution_count": 8,
   "id": "b2836c97",
   "metadata": {},
   "outputs": [
    {
     "name": "stdout",
     "output_type": "stream",
     "text": [
      "Accuracy: 0.816 (0.031)\n"
     ]
    }
   ],
   "source": [
    "# summarize performance\n",
    "print('Accuracy: %.3f (%.3f)' % (mean(results), std(results)))"
   ]
  },
  {
   "cell_type": "code",
   "execution_count": 9,
   "id": "d69ba025",
   "metadata": {},
   "outputs": [
    {
     "data": {
      "text/plain": [
       "<keras.callbacks.History at 0x22c257d88b0>"
      ]
     },
     "execution_count": 9,
     "metadata": {},
     "output_type": "execute_result"
    }
   ],
   "source": [
    "n_inputs, n_outputs = X.shape[1], y.shape[1]\n",
    "# get model\n",
    "model = get_model(n_inputs, n_outputs)\n",
    "# fit the model on all data\n",
    "model.fit(X, y, verbose=0, epochs=100)"
   ]
  },
  {
   "cell_type": "code",
   "execution_count": 11,
   "id": "03778e69",
   "metadata": {},
   "outputs": [
    {
     "name": "stdout",
     "output_type": "stream",
     "text": [
      "1/1 [==============================] - 0s 96ms/step\n",
      "Predicted: [0.9997146  0.98385626 0.00397198]\n"
     ]
    }
   ],
   "source": [
    "from numpy import asarray\n",
    "# make a prediction for new data\n",
    "row = [3, 3, 6, 7, 8, 2, 11, 11, 1, 3]\n",
    "newX = asarray([row])\n",
    "yhat = model.predict(newX)\n",
    "print('Predicted: %s' % yhat[0])"
   ]
  }
 ],
 "metadata": {
  "kernelspec": {
   "display_name": "Python 3 (ipykernel)",
   "language": "python",
   "name": "python3"
  },
  "language_info": {
   "codemirror_mode": {
    "name": "ipython",
    "version": 3
   },
   "file_extension": ".py",
   "mimetype": "text/x-python",
   "name": "python",
   "nbconvert_exporter": "python",
   "pygments_lexer": "ipython3",
   "version": "3.9.12"
  }
 },
 "nbformat": 4,
 "nbformat_minor": 5
}
