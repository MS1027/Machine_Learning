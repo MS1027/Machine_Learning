{
 "cells": [
  {
   "cell_type": "code",
   "execution_count": 1,
   "id": "92eab655",
   "metadata": {},
   "outputs": [],
   "source": [
    "from tensorflow.keras import layers\n",
    "from tensorflow import keras\n",
    "import tensorflow as tf\n",
    "\n",
    "from sklearn.model_selection import train_test_split\n",
    "from ast import literal_eval\n",
    "\n",
    "import matplotlib.pyplot as plt\n",
    "import pandas as pd\n",
    "import numpy as np"
   ]
  },
  {
   "cell_type": "code",
   "execution_count": 2,
   "id": "0b48412a",
   "metadata": {},
   "outputs": [
    {
     "data": {
      "text/html": [
       "<div>\n",
       "<style scoped>\n",
       "    .dataframe tbody tr th:only-of-type {\n",
       "        vertical-align: middle;\n",
       "    }\n",
       "\n",
       "    .dataframe tbody tr th {\n",
       "        vertical-align: top;\n",
       "    }\n",
       "\n",
       "    .dataframe thead th {\n",
       "        text-align: right;\n",
       "    }\n",
       "</style>\n",
       "<table border=\"1\" class=\"dataframe\">\n",
       "  <thead>\n",
       "    <tr style=\"text-align: right;\">\n",
       "      <th></th>\n",
       "      <th>titles</th>\n",
       "      <th>summaries</th>\n",
       "      <th>terms</th>\n",
       "    </tr>\n",
       "  </thead>\n",
       "  <tbody>\n",
       "    <tr>\n",
       "      <th>0</th>\n",
       "      <td>Survey on Semantic Stereo Matching / Semantic ...</td>\n",
       "      <td>Stereo matching is one of the widely used tech...</td>\n",
       "      <td>['cs.CV', 'cs.LG']</td>\n",
       "    </tr>\n",
       "    <tr>\n",
       "      <th>1</th>\n",
       "      <td>FUTURE-AI: Guiding Principles and Consensus Re...</td>\n",
       "      <td>The recent advancements in artificial intellig...</td>\n",
       "      <td>['cs.CV', 'cs.AI', 'cs.LG']</td>\n",
       "    </tr>\n",
       "    <tr>\n",
       "      <th>2</th>\n",
       "      <td>Enforcing Mutual Consistency of Hard Regions f...</td>\n",
       "      <td>In this paper, we proposed a novel mutual cons...</td>\n",
       "      <td>['cs.CV', 'cs.AI']</td>\n",
       "    </tr>\n",
       "    <tr>\n",
       "      <th>3</th>\n",
       "      <td>Parameter Decoupling Strategy for Semi-supervi...</td>\n",
       "      <td>Consistency training has proven to be an advan...</td>\n",
       "      <td>['cs.CV']</td>\n",
       "    </tr>\n",
       "    <tr>\n",
       "      <th>4</th>\n",
       "      <td>Background-Foreground Segmentation for Interio...</td>\n",
       "      <td>To ensure safety in automated driving, the cor...</td>\n",
       "      <td>['cs.CV', 'cs.LG']</td>\n",
       "    </tr>\n",
       "  </tbody>\n",
       "</table>\n",
       "</div>"
      ],
      "text/plain": [
       "                                              titles  \\\n",
       "0  Survey on Semantic Stereo Matching / Semantic ...   \n",
       "1  FUTURE-AI: Guiding Principles and Consensus Re...   \n",
       "2  Enforcing Mutual Consistency of Hard Regions f...   \n",
       "3  Parameter Decoupling Strategy for Semi-supervi...   \n",
       "4  Background-Foreground Segmentation for Interio...   \n",
       "\n",
       "                                           summaries  \\\n",
       "0  Stereo matching is one of the widely used tech...   \n",
       "1  The recent advancements in artificial intellig...   \n",
       "2  In this paper, we proposed a novel mutual cons...   \n",
       "3  Consistency training has proven to be an advan...   \n",
       "4  To ensure safety in automated driving, the cor...   \n",
       "\n",
       "                         terms  \n",
       "0           ['cs.CV', 'cs.LG']  \n",
       "1  ['cs.CV', 'cs.AI', 'cs.LG']  \n",
       "2           ['cs.CV', 'cs.AI']  \n",
       "3                    ['cs.CV']  \n",
       "4           ['cs.CV', 'cs.LG']  "
      ]
     },
     "execution_count": 2,
     "metadata": {},
     "output_type": "execute_result"
    }
   ],
   "source": [
    "arxiv_data = pd.read_csv(\n",
    "    \"https://github.com/soumik12345/multi-label-text-classification/releases/download/v0.2/arxiv_data.csv\"\n",
    ")\n",
    "arxiv_data.head()"
   ]
  },
  {
   "cell_type": "code",
   "execution_count": 3,
   "id": "62d07ff4",
   "metadata": {},
   "outputs": [
    {
     "name": "stdout",
     "output_type": "stream",
     "text": [
      "There are 51774 rows in the dataset.\n"
     ]
    }
   ],
   "source": [
    "print(f\"There are {len(arxiv_data)} rows in the dataset.\")"
   ]
  },
  {
   "cell_type": "code",
   "execution_count": 4,
   "id": "97d09e71",
   "metadata": {
    "scrolled": true
   },
   "outputs": [
    {
     "name": "stdout",
     "output_type": "stream",
     "text": [
      "There are 12802 duplicate titles.\n"
     ]
    }
   ],
   "source": [
    "total_duplicate_titles = sum(arxiv_data[\"titles\"].duplicated())\n",
    "print(f\"There are {total_duplicate_titles} duplicate titles.\")"
   ]
  },
  {
   "cell_type": "code",
   "execution_count": 5,
   "id": "77762df2",
   "metadata": {},
   "outputs": [
    {
     "name": "stdout",
     "output_type": "stream",
     "text": [
      "There are 38972 rows in the deduplicated dataset.\n",
      "2321\n",
      "3157\n"
     ]
    }
   ],
   "source": [
    "arxiv_data = arxiv_data[~arxiv_data[\"titles\"].duplicated()]\n",
    "print(f\"There are {len(arxiv_data)} rows in the deduplicated dataset.\")\n",
    "\n",
    "# There are some terms with occurrence as low as 1.\n",
    "print(sum(arxiv_data[\"terms\"].value_counts() == 1))\n",
    "\n",
    "# How many unique terms?\n",
    "print(arxiv_data[\"terms\"].nunique())"
   ]
  },
  {
   "cell_type": "code",
   "execution_count": 6,
   "id": "3b750912",
   "metadata": {},
   "outputs": [
    {
     "data": {
      "text/plain": [
       "(36651, 3)"
      ]
     },
     "execution_count": 6,
     "metadata": {},
     "output_type": "execute_result"
    }
   ],
   "source": [
    "# Filtering the rare terms.\n",
    "arxiv_data_filtered = arxiv_data.groupby(\"terms\").filter(lambda x: len(x) > 1)\n",
    "arxiv_data_filtered.shape"
   ]
  },
  {
   "cell_type": "code",
   "execution_count": 7,
   "id": "ba58394f",
   "metadata": {
    "scrolled": false
   },
   "outputs": [
    {
     "data": {
      "text/html": [
       "<div>\n",
       "<style scoped>\n",
       "    .dataframe tbody tr th:only-of-type {\n",
       "        vertical-align: middle;\n",
       "    }\n",
       "\n",
       "    .dataframe tbody tr th {\n",
       "        vertical-align: top;\n",
       "    }\n",
       "\n",
       "    .dataframe thead th {\n",
       "        text-align: right;\n",
       "    }\n",
       "</style>\n",
       "<table border=\"1\" class=\"dataframe\">\n",
       "  <thead>\n",
       "    <tr style=\"text-align: right;\">\n",
       "      <th></th>\n",
       "      <th>titles</th>\n",
       "      <th>summaries</th>\n",
       "      <th>terms</th>\n",
       "    </tr>\n",
       "  </thead>\n",
       "  <tbody>\n",
       "    <tr>\n",
       "      <th>0</th>\n",
       "      <td>Survey on Semantic Stereo Matching / Semantic ...</td>\n",
       "      <td>Stereo matching is one of the widely used tech...</td>\n",
       "      <td>['cs.CV', 'cs.LG']</td>\n",
       "    </tr>\n",
       "    <tr>\n",
       "      <th>1</th>\n",
       "      <td>FUTURE-AI: Guiding Principles and Consensus Re...</td>\n",
       "      <td>The recent advancements in artificial intellig...</td>\n",
       "      <td>['cs.CV', 'cs.AI', 'cs.LG']</td>\n",
       "    </tr>\n",
       "    <tr>\n",
       "      <th>2</th>\n",
       "      <td>Enforcing Mutual Consistency of Hard Regions f...</td>\n",
       "      <td>In this paper, we proposed a novel mutual cons...</td>\n",
       "      <td>['cs.CV', 'cs.AI']</td>\n",
       "    </tr>\n",
       "    <tr>\n",
       "      <th>3</th>\n",
       "      <td>Parameter Decoupling Strategy for Semi-supervi...</td>\n",
       "      <td>Consistency training has proven to be an advan...</td>\n",
       "      <td>['cs.CV']</td>\n",
       "    </tr>\n",
       "    <tr>\n",
       "      <th>4</th>\n",
       "      <td>Background-Foreground Segmentation for Interio...</td>\n",
       "      <td>To ensure safety in automated driving, the cor...</td>\n",
       "      <td>['cs.CV', 'cs.LG']</td>\n",
       "    </tr>\n",
       "    <tr>\n",
       "      <th>...</th>\n",
       "      <td>...</td>\n",
       "      <td>...</td>\n",
       "      <td>...</td>\n",
       "    </tr>\n",
       "    <tr>\n",
       "      <th>51767</th>\n",
       "      <td>A Ray-based Approach for Boundary Estimation o...</td>\n",
       "      <td>Diffusion Tensor Imaging (DTI) is a non-invasi...</td>\n",
       "      <td>['cs.CV']</td>\n",
       "    </tr>\n",
       "    <tr>\n",
       "      <th>51768</th>\n",
       "      <td>Statistical Denoising for single molecule fluo...</td>\n",
       "      <td>Single molecule fluorescence microscopy is a p...</td>\n",
       "      <td>['cs.CV']</td>\n",
       "    </tr>\n",
       "    <tr>\n",
       "      <th>51770</th>\n",
       "      <td>Blinking Molecule Tracking</td>\n",
       "      <td>We discuss a method for tracking individual mo...</td>\n",
       "      <td>['cs.CV', 'cs.DM']</td>\n",
       "    </tr>\n",
       "    <tr>\n",
       "      <th>51771</th>\n",
       "      <td>Towards a Mathematical Foundation of Immunolog...</td>\n",
       "      <td>We attempt to set a mathematical foundation of...</td>\n",
       "      <td>['stat.ML', 'cs.LG', 'q-bio.GN']</td>\n",
       "    </tr>\n",
       "    <tr>\n",
       "      <th>51772</th>\n",
       "      <td>A Semi-Automatic Graph-Based Approach for Dete...</td>\n",
       "      <td>Diffusion Tensor Imaging (DTI) allows estimati...</td>\n",
       "      <td>['cs.CV']</td>\n",
       "    </tr>\n",
       "  </tbody>\n",
       "</table>\n",
       "<p>36651 rows × 3 columns</p>\n",
       "</div>"
      ],
      "text/plain": [
       "                                                  titles  \\\n",
       "0      Survey on Semantic Stereo Matching / Semantic ...   \n",
       "1      FUTURE-AI: Guiding Principles and Consensus Re...   \n",
       "2      Enforcing Mutual Consistency of Hard Regions f...   \n",
       "3      Parameter Decoupling Strategy for Semi-supervi...   \n",
       "4      Background-Foreground Segmentation for Interio...   \n",
       "...                                                  ...   \n",
       "51767  A Ray-based Approach for Boundary Estimation o...   \n",
       "51768  Statistical Denoising for single molecule fluo...   \n",
       "51770                         Blinking Molecule Tracking   \n",
       "51771  Towards a Mathematical Foundation of Immunolog...   \n",
       "51772  A Semi-Automatic Graph-Based Approach for Dete...   \n",
       "\n",
       "                                               summaries  \\\n",
       "0      Stereo matching is one of the widely used tech...   \n",
       "1      The recent advancements in artificial intellig...   \n",
       "2      In this paper, we proposed a novel mutual cons...   \n",
       "3      Consistency training has proven to be an advan...   \n",
       "4      To ensure safety in automated driving, the cor...   \n",
       "...                                                  ...   \n",
       "51767  Diffusion Tensor Imaging (DTI) is a non-invasi...   \n",
       "51768  Single molecule fluorescence microscopy is a p...   \n",
       "51770  We discuss a method for tracking individual mo...   \n",
       "51771  We attempt to set a mathematical foundation of...   \n",
       "51772  Diffusion Tensor Imaging (DTI) allows estimati...   \n",
       "\n",
       "                                  terms  \n",
       "0                    ['cs.CV', 'cs.LG']  \n",
       "1           ['cs.CV', 'cs.AI', 'cs.LG']  \n",
       "2                    ['cs.CV', 'cs.AI']  \n",
       "3                             ['cs.CV']  \n",
       "4                    ['cs.CV', 'cs.LG']  \n",
       "...                                 ...  \n",
       "51767                         ['cs.CV']  \n",
       "51768                         ['cs.CV']  \n",
       "51770                ['cs.CV', 'cs.DM']  \n",
       "51771  ['stat.ML', 'cs.LG', 'q-bio.GN']  \n",
       "51772                         ['cs.CV']  \n",
       "\n",
       "[36651 rows x 3 columns]"
      ]
     },
     "execution_count": 7,
     "metadata": {},
     "output_type": "execute_result"
    }
   ],
   "source": [
    "arxiv_data_filtered"
   ]
  },
  {
   "cell_type": "code",
   "execution_count": 8,
   "id": "066c9dfb",
   "metadata": {},
   "outputs": [],
   "source": [
    "arxiv_data_filtered[\"terms\"] = arxiv_data_filtered[\"terms\"].apply(\n",
    "    lambda x: literal_eval(x)\n",
    ")"
   ]
  },
  {
   "cell_type": "code",
   "execution_count": 10,
   "id": "ec4ae847",
   "metadata": {},
   "outputs": [
    {
     "name": "stdout",
     "output_type": "stream",
     "text": [
      "Number of rows in training set: 32985\n",
      "Number of rows in validation set: 1833\n",
      "Number of rows in test set: 1833\n"
     ]
    }
   ],
   "source": [
    "test_split = 0.1\n",
    "\n",
    "# Initial train and test split.\n",
    "train_df, test_df = train_test_split(\n",
    "    arxiv_data_filtered,\n",
    "    test_size=test_split,\n",
    "    stratify=arxiv_data_filtered[\"terms\"].values,\n",
    ")\n",
    "\n",
    "# Splitting the test set further into validation\n",
    "# and new test sets.\n",
    "val_df = test_df.sample(frac=0.5)\n",
    "test_df.drop(val_df.index, inplace=True)\n",
    "\n",
    "print(f\"Number of rows in training set: {len(train_df)}\")\n",
    "print(f\"Number of rows in validation set: {len(val_df)}\")\n",
    "print(f\"Number of rows in test set: {len(test_df)}\")"
   ]
  },
  {
   "cell_type": "code",
   "execution_count": 11,
   "id": "d22ca9a7",
   "metadata": {
    "scrolled": true
   },
   "outputs": [
    {
     "name": "stdout",
     "output_type": "stream",
     "text": [
      "Vocabulary:\n",
      "\n",
      "['[UNK]', 'cs.CV', 'cs.LG', 'stat.ML', 'cs.AI', 'eess.IV', 'cs.RO', 'cs.CL', 'cs.NE', 'cs.CR', 'math.OC', 'eess.SP', 'cs.GR', 'cs.SI', 'cs.MM', 'cs.SY', 'cs.IR', 'cs.MA', 'eess.SY', 'cs.HC', 'math.IT', 'cs.IT', 'cs.DC', 'cs.CY', 'stat.AP', 'stat.TH', 'math.ST', 'stat.ME', 'eess.AS', 'cs.SD', 'q-bio.QM', 'q-bio.NC', 'cs.DS', 'cs.GT', 'cs.CG', 'cs.SE', 'cs.NI', 'stat.CO', 'I.2.6', 'math.NA', 'cs.NA', 'physics.chem-ph', 'cs.DB', 'q-bio.BM', 'cs.LO', 'cond-mat.dis-nn', '68T45', 'math.PR', 'cs.PL', 'physics.comp-ph', 'cs.CE', 'cs.AR', 'I.2.10', 'q-fin.ST', 'cond-mat.stat-mech', 'quant-ph', 'math.DS', '68T05', 'physics.data-an', 'cs.CC', 'I.4.6', 'physics.soc-ph', 'physics.ao-ph', 'q-bio.GN', 'econ.EM', 'cs.DM', 'physics.med-ph', 'astro-ph.IM', 'I.4.8', 'math.AT', 'cs.PF', 'I.4', 'q-fin.TR', 'cs.FL', 'I.5.4', 'I.2', '68U10', 'hep-ex', '68T10', 'physics.optics', 'physics.geo-ph', 'cond-mat.mtrl-sci', 'physics.flu-dyn', 'math.CO', 'math.AP', 'I.4; I.5', 'I.4.9', 'I.2.6; I.2.8', '68T01', '65D19', 'q-fin.CP', 'nlin.CD', 'cs.MS', 'I.2.6; I.5.1', 'I.2.10; I.4; I.5', 'I.2.0; I.2.6', '68T07', 'cs.SC', 'cs.ET', 'K.3.2', 'I.2.8', 'I.2.10; I.4.8', '68U01', '68T30', '68', 'q-fin.GN', 'q-fin.EC', 'q-bio.MN', 'econ.GN', 'I.4.9; I.5.4', 'I.4.5', 'I.2; I.5', 'I.2; I.4; I.5', 'I.2.6; I.2.7', '68T99', '68Q32', '62H30', 'q-fin.RM', 'q-fin.PM', 'q-bio.TO', 'q-bio.OT', 'physics.bio-ph', 'nlin.AO', 'math.LO', 'math.FA', 'hep-ph', 'cond-mat.soft', 'I.4.6; I.4.8', 'I.4.4', 'I.4.3', 'I.4.0', 'I.2; J.2', 'I.2; I.2.6; I.2.7', 'I.2.7', 'I.2.6; I.5.4', 'I.2.6; I.2.9', 'I.2.6; I.2.7; H.3.1; H.3.3', 'I.2.6; I.2.10', 'I.2.6, I.5.4', 'I.2.1; J.3', 'I.2.10; I.5.1; I.4.8', 'I.2.10; I.4.8; I.5.4', 'I.2.10; I.2.6', 'I.2.1', 'H.3.1; I.2.6; I.2.7', 'H.3.1; H.3.3; I.2.6; I.2.7', 'G.3', 'F.2.2; I.2.7', 'E.5; E.4; E.2; H.1.1; F.1.1; F.1.3', '68Txx', '62H99', '62H35', '14J60 (Primary) 14F05, 14J26 (Secondary)']\n"
     ]
    }
   ],
   "source": [
    "terms = tf.ragged.constant(train_df[\"terms\"].values)\n",
    "lookup = tf.keras.layers.StringLookup(output_mode=\"multi_hot\")\n",
    "lookup.adapt(terms)\n",
    "vocab = lookup.get_vocabulary()\n",
    "\n",
    "\n",
    "def invert_multi_hot(encoded_labels):\n",
    "    \"\"\"Reverse a single multi-hot encoded label to a tuple of vocab terms.\"\"\"\n",
    "    hot_indices = np.argwhere(encoded_labels == 1.0)[..., 0]\n",
    "    return np.take(vocab, hot_indices)\n",
    "\n",
    "\n",
    "print(\"Vocabulary:\\n\")\n",
    "print(vocab)"
   ]
  },
  {
   "cell_type": "code",
   "execution_count": 12,
   "id": "c387e2ac",
   "metadata": {},
   "outputs": [
    {
     "name": "stdout",
     "output_type": "stream",
     "text": [
      "Original label: ['cs.LG', 'cond-mat.dis-nn', 'cond-mat.stat-mech']\n",
      "Label-binarized representation: [[0. 0. 1. 0. 0. 0. 0. 0. 0. 0. 0. 0. 0. 0. 0. 0. 0. 0. 0. 0. 0. 0. 0. 0.\n",
      "  0. 0. 0. 0. 0. 0. 0. 0. 0. 0. 0. 0. 0. 0. 0. 0. 0. 0. 0. 0. 0. 1. 0. 0.\n",
      "  0. 0. 0. 0. 0. 0. 1. 0. 0. 0. 0. 0. 0. 0. 0. 0. 0. 0. 0. 0. 0. 0. 0. 0.\n",
      "  0. 0. 0. 0. 0. 0. 0. 0. 0. 0. 0. 0. 0. 0. 0. 0. 0. 0. 0. 0. 0. 0. 0. 0.\n",
      "  0. 0. 0. 0. 0. 0. 0. 0. 0. 0. 0. 0. 0. 0. 0. 0. 0. 0. 0. 0. 0. 0. 0. 0.\n",
      "  0. 0. 0. 0. 0. 0. 0. 0. 0. 0. 0. 0. 0. 0. 0. 0. 0. 0. 0. 0. 0. 0. 0. 0.\n",
      "  0. 0. 0. 0. 0. 0. 0. 0. 0.]]\n"
     ]
    }
   ],
   "source": [
    "sample_label = train_df[\"terms\"].iloc[0]\n",
    "print(f\"Original label: {sample_label}\")\n",
    "\n",
    "label_binarized = lookup([sample_label])\n",
    "print(f\"Label-binarized representation: {label_binarized}\")"
   ]
  },
  {
   "cell_type": "code",
   "execution_count": 13,
   "id": "7f12c437",
   "metadata": {},
   "outputs": [
    {
     "data": {
      "text/plain": [
       "count    32985.000000\n",
       "mean       156.490981\n",
       "std         41.466174\n",
       "min          5.000000\n",
       "25%        128.000000\n",
       "50%        155.000000\n",
       "75%        183.000000\n",
       "max        462.000000\n",
       "Name: summaries, dtype: float64"
      ]
     },
     "execution_count": 13,
     "metadata": {},
     "output_type": "execute_result"
    }
   ],
   "source": [
    "train_df[\"summaries\"].apply(lambda x: len(x.split(\" \"))).describe()"
   ]
  },
  {
   "cell_type": "code",
   "execution_count": 14,
   "id": "3a81ec28",
   "metadata": {},
   "outputs": [],
   "source": [
    "max_seqlen = 150\n",
    "batch_size = 128\n",
    "padding_token = \"<pad>\"\n",
    "auto = tf.data.AUTOTUNE\n",
    "\n",
    "\n",
    "def make_dataset(dataframe, is_train=True):\n",
    "    labels = tf.ragged.constant(dataframe[\"terms\"].values)\n",
    "    label_binarized = lookup(labels).numpy()\n",
    "    dataset = tf.data.Dataset.from_tensor_slices(\n",
    "        (dataframe[\"summaries\"].values, label_binarized)\n",
    "    )\n",
    "    dataset = dataset.shuffle(batch_size * 10) if is_train else dataset\n",
    "    return dataset.batch(batch_size)"
   ]
  },
  {
   "cell_type": "code",
   "execution_count": 15,
   "id": "fcfa6123",
   "metadata": {},
   "outputs": [],
   "source": [
    "train_dataset = make_dataset(train_df, is_train=True)\n",
    "validation_dataset = make_dataset(val_df, is_train=False)\n",
    "test_dataset = make_dataset(test_df, is_train=False)"
   ]
  },
  {
   "cell_type": "code",
   "execution_count": 16,
   "id": "2c6ab964",
   "metadata": {},
   "outputs": [
    {
     "name": "stdout",
     "output_type": "stream",
     "text": [
      "Abstract: b'The last decade has witnessed the proliferation of Deep Learning models in\\nmany applications, achieving unrivaled levels of predictive performance.\\nUnfortunately, the black-box nature of Deep Learning models has posed\\nunanswered questions about what they learn from data. Certain application\\nscenarios have highlighted the importance of assessing the bounds under which\\nDeep Learning models operate, a problem addressed by using assorted approaches\\naimed at audiences from different domains. However, as the focus of the\\napplication is placed more on non-expert users, it results mandatory to provide\\nthe means for him/her to trust the model, just like a human gets familiar with\\na system or process: by understanding the hypothetical circumstances under\\nwhich it fails. This is indeed the angular stone for this research work: to\\nundertake an adversarial analysis of a Deep Learning model. The proposed\\nframework constructs counterfactual examples by ensuring their plausibility,\\ne.g. there is a reasonable probability that a human could generate them without\\nresorting to a computer program. Therefore, this work must be regarded as\\nvaluable auditing exercise of the usable bounds a certain model is constrained\\nwithin, thereby allowing for a much greater understanding of the capabilities\\nand pitfalls of a model used in a real application. To this end, a Generative\\nAdversarial Network (GAN) and multi-objective heuristics are used to furnish a\\nplausible attack to the audited model, efficiently trading between the\\nconfusion of this model, the intensity and plausibility of the generated\\ncounterfactual. Its utility is showcased within a human face classification\\ntask, unveiling the enormous potential of the proposed framework.'\n",
      "Label(s): ['cs.LG' 'cs.NE' 'cs.CR']\n",
      " \n",
      "Abstract: b'This paper presents a novel approach for job shop scheduling problems using\\ndeep reinforcement learning. To account for the complexity of production\\nenvironment, we employ graph neural networks to model the various relations\\nwithin production environments. Furthermore, we cast the JSSP as a distributed\\noptimization problem in which learning agents are individually assigned to\\nresources which allows for higher flexibility with respect to changing\\nproduction environments. The proposed distributed RL agents used to optimize\\nproduction schedules for single resources are running together with a\\nco-simulation framework of the production environment to obtain the required\\namount of data. The approach is applied to a multi-robot environment and a\\ncomplex production scheduling benchmark environment. The initial results\\nunderline the applicability and performance of the proposed method.'\n",
      "Label(s): ['cs.LG' 'stat.ML']\n",
      " \n",
      "Abstract: b'Most salient object detection approaches use U-Net or feature pyramid\\nnetworks (FPN) as their basic structures. These methods ignore two key problems\\nwhen the encoder exchanges information with the decoder: one is the lack of\\ninterference control between them, the other is without considering the\\ndisparity of the contributions of different encoder blocks. In this work, we\\npropose a simple gated network (GateNet) to solve both issues at once. With the\\nhelp of multilevel gate units, the valuable context information from the\\nencoder can be optimally transmitted to the decoder. We design a novel gated\\ndual branch structure to build the cooperation among different levels of\\nfeatures and improve the discriminability of the whole network. Through the\\ndual branch design, more details of the saliency map can be further restored.\\nIn addition, we adopt the atrous spatial pyramid pooling based on the proposed\\n\"Fold\" operation (Fold-ASPP) to accurately localize salient objects of various\\nscales. Extensive experiments on five challenging datasets demonstrate that the\\nproposed model performs favorably against most state-of-the-art methods under\\ndifferent evaluation metrics.'\n",
      "Label(s): ['cs.CV']\n",
      " \n",
      "Abstract: b'Medical students and radiology trainees typically view thousands of images in\\norder to \"train their eye\" to detect the subtle visual patterns necessary for\\ndiagnosis. Nevertheless, infrastructural and legal constraints often make it\\ndifficult to access and quickly query an abundance of images with a\\nuser-specified feature set. In this paper, we use a conditional generative\\nadversarial network (GAN) to synthesize $1024\\\\times1024$ pixel pelvic\\nradiographs that can be queried with conditioning on fracture status. We\\ndemonstrate that the conditional GAN learns features that distinguish fractures\\nfrom non-fractures by training a convolutional neural network exclusively on\\nimages sampled from the GAN and achieving an AUC of $>0.95$ on a held-out set\\nof real images. We conduct additional analysis of the images sampled from the\\nGAN and describe ongoing work to validate educational efficacy.'\n",
      "Label(s): ['cs.CV']\n",
      " \n",
      "Abstract: b\"Decision tree is an important method for both induction research and data\\nmining, which is mainly used for model classification and prediction. ID3\\nalgorithm is the most widely used algorithm in the decision tree so far. In\\nthis paper, the shortcoming of ID3's inclining to choose attributes with many\\nvalues is discussed, and then a new decision tree algorithm which is improved\\nversion of ID3. In our proposed algorithm attributes are divided into groups\\nand then we apply the selection measure 5 for these groups. If information gain\\nis not good then again divide attributes values into groups. These steps are\\ndone until we get good classification/misclassification ratio. The proposed\\nalgorithms classify the data sets more accurately and efficiently.\"\n",
      "Label(s): ['cs.LG' 'stat.ML' 'cs.DB']\n",
      " \n"
     ]
    }
   ],
   "source": [
    "text_batch, label_batch = next(iter(train_dataset))\n",
    "\n",
    "for i, text in enumerate(text_batch[:5]):\n",
    "    label = label_batch[i].numpy()[None, ...]\n",
    "    print(f\"Abstract: {text}\")\n",
    "    print(f\"Label(s): {invert_multi_hot(label[0])}\")\n",
    "    print(\" \")"
   ]
  },
  {
   "cell_type": "code",
   "execution_count": 17,
   "id": "322870e3",
   "metadata": {},
   "outputs": [
    {
     "name": "stdout",
     "output_type": "stream",
     "text": [
      "153652\n"
     ]
    }
   ],
   "source": [
    "# Source: https://stackoverflow.com/a/18937309/7636462\n",
    "vocabulary = set()\n",
    "train_df[\"summaries\"].str.lower().str.split().apply(vocabulary.update)\n",
    "vocabulary_size = len(vocabulary)\n",
    "print(vocabulary_size)"
   ]
  },
  {
   "cell_type": "code",
   "execution_count": 18,
   "id": "d36a91f6",
   "metadata": {},
   "outputs": [],
   "source": [
    "text_vectorizer = layers.TextVectorization(\n",
    "    max_tokens=vocabulary_size, ngrams=2, output_mode=\"tf_idf\"\n",
    ")\n",
    "\n",
    "# `TextVectorization` layer needs to be adapted as per the vocabulary from our\n",
    "# training set.\n",
    "with tf.device(\"/CPU:0\"):\n",
    "    text_vectorizer.adapt(train_dataset.map(lambda text, label: text))\n",
    "\n",
    "train_dataset = train_dataset.map(\n",
    "    lambda text, label: (text_vectorizer(text), label), num_parallel_calls=auto\n",
    ").prefetch(auto)\n",
    "validation_dataset = validation_dataset.map(\n",
    "    lambda text, label: (text_vectorizer(text), label), num_parallel_calls=auto\n",
    ").prefetch(auto)\n",
    "test_dataset = test_dataset.map(\n",
    "    lambda text, label: (text_vectorizer(text), label), num_parallel_calls=auto\n",
    ").prefetch(auto)"
   ]
  },
  {
   "cell_type": "code",
   "execution_count": 19,
   "id": "326f0b0e",
   "metadata": {},
   "outputs": [],
   "source": [
    "def make_model():\n",
    "    shallow_mlp_model = keras.Sequential(\n",
    "        [\n",
    "            layers.Dense(512, activation=\"relu\"),\n",
    "            layers.Dense(256, activation=\"relu\"),\n",
    "            layers.Dense(lookup.vocabulary_size(), activation=\"sigmoid\"),\n",
    "        ]  # More on why \"sigmoid\" has been used here in a moment.\n",
    "    )\n",
    "    return shallow_mlp_model"
   ]
  },
  {
   "cell_type": "code",
   "execution_count": 20,
   "id": "66ba4658",
   "metadata": {
    "scrolled": false
   },
   "outputs": [
    {
     "name": "stdout",
     "output_type": "stream",
     "text": [
      "Epoch 1/20\n",
      "258/258 [==============================] - 186s 707ms/step - loss: 0.0327 - categorical_accuracy: 0.8521 - val_loss: 0.0193 - val_categorical_accuracy: 0.8898\n",
      "Epoch 2/20\n",
      "258/258 [==============================] - 177s 684ms/step - loss: 0.0031 - categorical_accuracy: 0.8870 - val_loss: 0.0266 - val_categorical_accuracy: 0.8789\n",
      "Epoch 3/20\n",
      "258/258 [==============================] - 174s 672ms/step - loss: 8.5269e-04 - categorical_accuracy: 0.8580 - val_loss: 0.0338 - val_categorical_accuracy: 0.8538\n",
      "Epoch 4/20\n",
      "258/258 [==============================] - 177s 685ms/step - loss: 3.6844e-04 - categorical_accuracy: 0.8353 - val_loss: 0.0377 - val_categorical_accuracy: 0.8680\n",
      "Epoch 5/20\n",
      "258/258 [==============================] - 175s 677ms/step - loss: 2.0509e-04 - categorical_accuracy: 0.8285 - val_loss: 0.0410 - val_categorical_accuracy: 0.8718\n",
      "Epoch 6/20\n",
      "258/258 [==============================] - 175s 676ms/step - loss: 1.4306e-04 - categorical_accuracy: 0.8124 - val_loss: 0.0421 - val_categorical_accuracy: 0.8516\n",
      "Epoch 7/20\n",
      "258/258 [==============================] - 173s 669ms/step - loss: 9.3706e-05 - categorical_accuracy: 0.8252 - val_loss: 0.0441 - val_categorical_accuracy: 0.8625\n",
      "Epoch 8/20\n",
      "258/258 [==============================] - 173s 669ms/step - loss: 6.4423e-05 - categorical_accuracy: 0.8265 - val_loss: 0.0446 - val_categorical_accuracy: 0.8636\n",
      "Epoch 9/20\n",
      "258/258 [==============================] - 174s 671ms/step - loss: 5.4415e-05 - categorical_accuracy: 0.8367 - val_loss: 0.0471 - val_categorical_accuracy: 0.8494\n",
      "Epoch 10/20\n",
      "258/258 [==============================] - 175s 676ms/step - loss: 5.3121e-05 - categorical_accuracy: 0.8434 - val_loss: 0.0465 - val_categorical_accuracy: 0.8647\n",
      "Epoch 11/20\n",
      "258/258 [==============================] - 174s 673ms/step - loss: 5.0547e-05 - categorical_accuracy: 0.8381 - val_loss: 0.0468 - val_categorical_accuracy: 0.8543\n",
      "Epoch 12/20\n",
      "258/258 [==============================] - 175s 676ms/step - loss: 1.5729e-04 - categorical_accuracy: 0.8388 - val_loss: 0.0432 - val_categorical_accuracy: 0.8380\n",
      "Epoch 13/20\n",
      "258/258 [==============================] - 174s 671ms/step - loss: 8.5819e-04 - categorical_accuracy: 0.7977 - val_loss: 0.0395 - val_categorical_accuracy: 0.8751\n",
      "Epoch 14/20\n",
      "258/258 [==============================] - 173s 671ms/step - loss: 0.0016 - categorical_accuracy: 0.8278 - val_loss: 0.0424 - val_categorical_accuracy: 0.8303\n",
      "Epoch 15/20\n",
      "258/258 [==============================] - 173s 668ms/step - loss: 0.0016 - categorical_accuracy: 0.8065 - val_loss: 0.0460 - val_categorical_accuracy: 0.8183\n",
      "Epoch 16/20\n",
      "258/258 [==============================] - 176s 679ms/step - loss: 9.3021e-04 - categorical_accuracy: 0.7806 - val_loss: 0.0502 - val_categorical_accuracy: 0.8129\n",
      "Epoch 17/20\n",
      "258/258 [==============================] - 174s 672ms/step - loss: 4.7565e-04 - categorical_accuracy: 0.7714 - val_loss: 0.0543 - val_categorical_accuracy: 0.8287\n",
      "Epoch 18/20\n",
      "258/258 [==============================] - 173s 670ms/step - loss: 1.9200e-04 - categorical_accuracy: 0.7540 - val_loss: 0.0603 - val_categorical_accuracy: 0.8167\n",
      "Epoch 19/20\n",
      "258/258 [==============================] - 174s 671ms/step - loss: 1.0402e-04 - categorical_accuracy: 0.7519 - val_loss: 0.0631 - val_categorical_accuracy: 0.8320\n",
      "Epoch 20/20\n",
      "258/258 [==============================] - 181s 700ms/step - loss: 6.2994e-05 - categorical_accuracy: 0.7692 - val_loss: 0.0656 - val_categorical_accuracy: 0.8331\n"
     ]
    },
    {
     "data": {
      "image/png": "[encoded data removed]",
      "text/plain": [
       "<Figure size 432x288 with 1 Axes>"
      ]
     },
     "metadata": {
      "needs_background": "light"
     },
     "output_type": "display_data"
    },
    {
     "data": {
      "image/png": "[encoded data removed]",
      "text/plain": [
       "<Figure size 432x288 with 1 Axes>"
      ]
     },
     "metadata": {
      "needs_background": "light"
     },
     "output_type": "display_data"
    }
   ],
   "source": [
    "epochs = 20\n",
    "\n",
    "shallow_mlp_model = make_model()\n",
    "shallow_mlp_model.compile(\n",
    "    loss=\"binary_crossentropy\", optimizer=\"adam\", metrics=[\"categorical_accuracy\"]\n",
    ")\n",
    "\n",
    "history = shallow_mlp_model.fit(\n",
    "    train_dataset, validation_data=validation_dataset, epochs=epochs\n",
    ")\n",
    "\n",
    "\n",
    "def plot_result(item):\n",
    "    plt.plot(history.history[item], label=item)\n",
    "    plt.plot(history.history[\"val_\" + item], label=\"val_\" + item)\n",
    "    plt.xlabel(\"Epochs\")\n",
    "    plt.ylabel(item)\n",
    "    plt.title(\"Train and Validation {} Over Epochs\".format(item), fontsize=14)\n",
    "    plt.legend()\n",
    "    plt.grid()\n",
    "    plt.show()\n",
    "\n",
    "\n",
    "plot_result(\"loss\")\n",
    "plot_result(\"categorical_accuracy\")"
   ]
  },
  {
   "cell_type": "code",
   "execution_count": 21,
   "id": "aa0c69ef",
   "metadata": {},
   "outputs": [
    {
     "name": "stdout",
     "output_type": "stream",
     "text": [
      "15/15 [==============================] - 4s 229ms/step - loss: 0.0627 - categorical_accuracy: 0.8402\n",
      "Categorical accuracy on the test set: 84.02%.\n"
     ]
    }
   ],
   "source": [
    "_, categorical_acc = shallow_mlp_model.evaluate(test_dataset)\n",
    "print(f\"Categorical accuracy on the test set: {round(categorical_acc * 100, 2)}%.\")"
   ]
  },
  {
   "cell_type": "code",
   "execution_count": 22,
   "id": "c3888aeb",
   "metadata": {},
   "outputs": [
    {
     "name": "stdout",
     "output_type": "stream",
     "text": [
      "4/4 [==============================] - 1s 125ms/step\n",
      "Abstract: b'Music Sight Reading is a complex process in which when it is occurred in the\\nbrain some learning attributes would be emerged. Besides giving a model based\\non actor-critic method in the Reinforcement Learning, the agent is considered\\nto have a neural network structure. We studied on where the sight reading\\nprocess is happened and also a serious problem which is how the synaptic\\nweights would be adjusted through the learning process. The model we offer here\\nis a computational model on which an updated weights equation to fix the\\nweights is accompanied too.'\n",
      "Label(s): ['cs.LG' 'cs.NE']\n",
      "Predicted Label(s): (stat.ML, cs.LG, cs.SY)\n",
      " \n",
      "Abstract: b\"How can we understand classification decisions made by deep neural networks?\\nMany existing explainability methods rely solely on correlations and fail to\\naccount for confounding, which may result in potentially misleading\\nexplanations. To overcome this problem, we define the Causal Concept Effect\\n(CaCE) as the causal effect of (the presence or absence of) a\\nhuman-interpretable concept on a deep neural net's predictions. We show that\\nthe CaCE measure can avoid errors stemming from confounding. Estimating CaCE is\\ndifficult in situations where we cannot easily simulate the do-operator. To\\nmitigate this problem, we use a generative model, specifically a Variational\\nAutoEncoder (VAE), to measure VAE-CaCE. In an extensive experimental analysis,\\nwe show that the VAE-CaCE is able to estimate the true concept causal effect,\\ncompared to baselines for a number of datasets including high dimensional\\nimages.\"\n",
      "Label(s): ['cs.CV' 'cs.LG' 'stat.ML']\n",
      "Predicted Label(s): (cs.LG, stat.ML, cs.AI)\n",
      " \n",
      "Abstract: b'A popular approach to semantic image understanding is to manually tag images\\nwith keywords and then learn a mapping from vi- sual features to keywords.\\nManually tagging images is a subjective pro- cess and the same or very similar\\nvisual contents are often tagged with different keywords. Furthermore, not all\\ntags have the same descriptive power for visual contents and large vocabulary\\navailable from natural language could result in a very diverse set of keywords.\\nIn this paper, we propose an unsupervised visual theme discovery framework as a\\nbetter (more compact, efficient and effective) alternative to semantic\\nrepresen- tation of visual contents. We first show that tag based annotation\\nlacks consistency and compactness for describing visually similar contents. We\\nthen learn the visual similarity between tags based on the visual features of\\nthe images containing the tags. At the same time, we use a natural language\\nprocessing technique (word embedding) to measure the seman- tic similarity\\nbetween tags. Finally, we cluster tags into visual themes based on their visual\\nsimilarity and semantic similarity measures using a spectral clustering\\nalgorithm. We conduct user studies to evaluate the effectiveness and\\nrationality of the visual themes discovered by our unsu- pervised algorithm and\\nobtains promising result. We then design three common computer vision tasks,\\nexample based image search, keyword based image search and image labelling to\\nexplore potential applica- tion of our visual themes discovery framework. In\\nexperiments, visual themes significantly outperforms tags on semantic image\\nunderstand- ing and achieve state-of-art performance in all three tasks. This\\nagain demonstrate the effectiveness and versatility of proposed framework.'\n",
      "Label(s): ['cs.CV']\n",
      "Predicted Label(s): (cs.CV, cs.GR, cs.MM)\n",
      " \n",
      "Abstract: b'Conventional zero-shot learning (ZSL) methods generally learn an embedding,\\ne.g., visual-semantic mapping, to handle the unseen visual samples via an\\nindirect manner. In this paper, we take the advantage of generative adversarial\\nnetworks (GANs) and propose a novel method, named leveraging invariant side GAN\\n(LisGAN), which can directly generate the unseen features from random noises\\nwhich are conditioned by the semantic descriptions. Specifically, we train a\\nconditional Wasserstein GANs in which the generator synthesizes fake unseen\\nfeatures from noises and the discriminator distinguishes the fake from real via\\na minimax game. Considering that one semantic description can correspond to\\nvarious synthesized visual samples, and the semantic description, figuratively,\\nis the soul of the generated features, we introduce soul samples as the\\ninvariant side of generative zero-shot learning in this paper. A soul sample is\\nthe meta-representation of one class. It visualizes the most\\nsemantically-meaningful aspects of each sample in the same category. We\\nregularize that each generated sample (the varying side of generative ZSL)\\nshould be close to at least one soul sample (the invariant side) which has the\\nsame class label with it. At the zero-shot recognition stage, we propose to use\\ntwo classifiers, which are deployed in a cascade way, to achieve a\\ncoarse-to-fine result. Experiments on five popular benchmarks verify that our\\nproposed approach can outperform state-of-the-art methods with significant\\nimprovements.'\n",
      "Label(s): ['cs.CV']\n",
      "Predicted Label(s): (cs.CV, cs.LG, cs.MM)\n",
      " \n",
      "Abstract: b'Despite recent progress in depth sensing and 3D reconstruction, mirror\\nsurfaces are a significant source of errors. To address this problem, we create\\nthe Mirror3D dataset: a 3D mirror plane dataset based on three RGBD datasets\\n(Matterport3D, NYUv2 and ScanNet) containing 7,011 mirror instance masks and 3D\\nplanes. We then develop Mirror3DNet: a module that refines raw sensor depth or\\nestimated depth to correct errors on mirror surfaces. Our key idea is to\\nestimate the 3D mirror plane based on RGB input and surrounding depth context,\\nand use this estimate to directly regress mirror surface depth. Our experiments\\nshow that Mirror3DNet significantly mitigates errors from a variety of input\\ndepth data, including raw sensor depth and depth estimation or completion\\nmethods.'\n",
      "Label(s): ['cs.CV']\n",
      "Predicted Label(s): (cs.CV, cs.MM, cs.LG)\n",
      " \n"
     ]
    }
   ],
   "source": [
    "# Create a model for inference.\n",
    "model_for_inference = keras.Sequential([text_vectorizer, shallow_mlp_model])\n",
    "\n",
    "# Create a small dataset just for demoing inference.\n",
    "inference_dataset = make_dataset(test_df.sample(100), is_train=False)\n",
    "text_batch, label_batch = next(iter(inference_dataset))\n",
    "predicted_probabilities = model_for_inference.predict(text_batch)\n",
    "\n",
    "# Perform inference.\n",
    "for i, text in enumerate(text_batch[:5]):\n",
    "    label = label_batch[i].numpy()[None, ...]\n",
    "    print(f\"Abstract: {text}\")\n",
    "    print(f\"Label(s): {invert_multi_hot(label[0])}\")\n",
    "    predicted_proba = [proba for proba in predicted_probabilities[i]]\n",
    "    top_3_labels = [\n",
    "        x\n",
    "        for _, x in sorted(\n",
    "            zip(predicted_probabilities[i], lookup.get_vocabulary()),\n",
    "            key=lambda pair: pair[0],\n",
    "            reverse=True,\n",
    "        )\n",
    "    ][:3]\n",
    "    print(f\"Predicted Label(s): ({', '.join([label for label in top_3_labels])})\")\n",
    "    print(\" \")"
   ]
  }
 ],
 "metadata": {
  "kernelspec": {
   "display_name": "Python 3 (ipykernel)",
   "language": "python",
   "name": "python3"
  },
  "language_info": {
   "codemirror_mode": {
    "name": "ipython",
    "version": 3
   },
   "file_extension": ".py",
   "mimetype": "text/x-python",
   "name": "python",
   "nbconvert_exporter": "python",
   "pygments_lexer": "ipython3",
   "version": "3.9.12"
  }
 },
 "nbformat": 4,
 "nbformat_minor": 5
}
